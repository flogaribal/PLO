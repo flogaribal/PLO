{
 "cells": [
  {
   "cell_type": "code",
   "execution_count": 31,
   "metadata": {},
   "outputs": [],
   "source": [
    "# Script pour combiner les fichiers json sous forme de training_format pour rasa_nlu\n",
    "\n",
    "import json\n",
    "import itertools\n",
    "import codecs"
   ]
  },
  {
   "cell_type": "code",
   "execution_count": 32,
   "metadata": {},
   "outputs": [],
   "source": [
    "# Charger les deux fichiers \n",
    "\n",
    "nom_fich1 = \"train_data_res.json\"\n",
    "\n",
    "\n",
    "nom_fich2 = \"affirmative.json\"\n",
    "\n",
    "\n",
    "\n",
    "data1 = json.loads(open(nom_fich1).read())\n",
    "\n",
    "#data2 = json.loads(open(nom_fich2).read())\n",
    "# si erreur Unexpected UTF-8 BOM (decode using utf-8-sig): line 1 column 1 (char 0) ouvrir avec la commande ci-dessous\n",
    "data2 = json.load(codecs.open(nom_fich2, 'r', 'utf-8-sig'))\n"
   ]
  },
  {
   "cell_type": "code",
   "execution_count": null,
   "metadata": {},
   "outputs": [],
   "source": []
  },
  {
   "cell_type": "code",
   "execution_count": 33,
   "metadata": {},
   "outputs": [],
   "source": [
    "# Merge des deux listes pour common_examples\n",
    "common_examples = {}\n",
    "entity_synonyms = {}\n",
    "regex_features = {}\n",
    "\n",
    "\n",
    "entity_synonyms = data1['rasa_nlu_data']['entity_synonyms'] + data2['rasa_nlu_data']['entity_synonyms']\n",
    "regex_features = data1['rasa_nlu_data']['regex_features'] + data2['rasa_nlu_data']['regex_features']\n",
    "common_examples = data1['rasa_nlu_data']['common_examples'] + data2['rasa_nlu_data']['common_examples']\n",
    "data3 = {\"rasa_nlu_data\" : {'common_examples': [], 'entity_synonyms': [], 'regex_features': []}}\n",
    "data3['rasa_nlu_data']['common_examples'] = common_examples\n",
    "data3['rasa_nlu_data']['entity_synonyms'] = entity_synonyms\n",
    "data3['rasa_nlu_data']['regex_features'] = regex_features\n"
   ]
  },
  {
   "cell_type": "code",
   "execution_count": null,
   "metadata": {},
   "outputs": [],
   "source": []
  },
  {
   "cell_type": "code",
   "execution_count": 34,
   "metadata": {},
   "outputs": [],
   "source": [
    "# Ecrire data3 dans un fichier\n",
    "\n",
    "f = open(\"train_data_res_final.json\",\"w+\", encoding='utf-8')"
   ]
  },
  {
   "cell_type": "code",
   "execution_count": 35,
   "metadata": {},
   "outputs": [],
   "source": [
    "with open('train_data_res_final.json', 'w',encoding='utf-8' ) as outfile:\n",
    "    json.dump(data3, outfile, indent = 2, ensure_ascii=False)"
   ]
  },
  {
   "cell_type": "code",
   "execution_count": null,
   "metadata": {},
   "outputs": [],
   "source": [
    "\n",
    "\n"
   ]
  },
  {
   "cell_type": "code",
   "execution_count": null,
   "metadata": {},
   "outputs": [],
   "source": []
  },
  {
   "cell_type": "code",
   "execution_count": null,
   "metadata": {},
   "outputs": [],
   "source": []
  },
  {
   "cell_type": "code",
   "execution_count": null,
   "metadata": {},
   "outputs": [],
   "source": []
  }
 ],
 "metadata": {
  "kernelspec": {
   "display_name": "Python 3",
   "language": "python",
   "name": "python3"
  },
  "language_info": {
   "codemirror_mode": {
    "name": "ipython",
    "version": 3
   },
   "file_extension": ".py",
   "mimetype": "text/x-python",
   "name": "python",
   "nbconvert_exporter": "python",
   "pygments_lexer": "ipython3",
   "version": "3.7.1"
  }
 },
 "nbformat": 4,
 "nbformat_minor": 2
}
